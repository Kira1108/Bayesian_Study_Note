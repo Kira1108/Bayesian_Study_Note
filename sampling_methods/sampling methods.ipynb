{
 "cells": [
  {
   "cell_type": "code",
   "execution_count": 1,
   "metadata": {},
   "outputs": [],
   "source": [
    "%matplotlib inline\n",
    "import numpy as np\n",
    "import matplotlib.pyplot as plt\n",
    "import time"
   ]
  },
  {
   "cell_type": "markdown",
   "metadata": {},
   "source": [
    "### Not important plotting helper function"
   ]
  },
  {
   "cell_type": "code",
   "execution_count": 2,
   "metadata": {},
   "outputs": [],
   "source": [
    "def dynamic_plotting(samples):\n",
    "    plt.ion()\n",
    "\n",
    "    fig_size = plt.rcParams[\"figure.figsize\"]\n",
    "    fig_size[0] = 16\n",
    "    fig_size[1] = 3\n",
    "\n",
    "    fig1 = plt.figure(1)\n",
    "    ax1_1 = fig1.add_subplot(121)\n",
    "    fig1.canvas.draw()\n",
    "\n",
    "    z= 100\n",
    "    b = np.ones([1])\n",
    "\n",
    "    for i in range(z):\n",
    "        # update data \n",
    "        b = np.append(b, [samples[i*100:(i+1)*100]])\n",
    "    \n",
    "        # re-plot area 1 of fig1  \n",
    "        ax1_1.clear()\n",
    "        ax1_1.set_xlim (0, 10000)\n",
    "        ax1_1.set_ylim (0, 1)\n",
    "        ax1_1.plot(b)\n",
    "    \n",
    "        # redraw fig 1 \n",
    "        fig1.canvas.draw()"
   ]
  },
  {
   "cell_type": "markdown",
   "metadata": {},
   "source": [
    "# Define Probabilities"
   ]
  },
  {
   "cell_type": "markdown",
   "metadata": {},
   "source": [
    "**Learn how the author deinfes probabilities in dictionaries for specific problem.**"
   ]
  },
  {
   "cell_type": "code",
   "execution_count": 3,
   "metadata": {},
   "outputs": [],
   "source": [
    "prob_type = 0.25\n",
    "prob_region = 0.55\n",
    "prob_prod = {(1,1): 0.9, (1,0): 0.75, (0,1):0.8, (0,0):0.6}\n",
    "prob_usage= {(1,): 0.5, (0,): 0.3}\n",
    "prob_price = {(1,): 0.3, (0,): 0.6}\n",
    "prob_cancel = {(1,1): 0.4, (1,0): 0.2, (0,1): 0.25, (0,0): 0.1}\n",
    "\n",
    "\n",
    "# The last to lines are dictionary that enables building a computational graph\n",
    "# In reject sampling, it is no used yet.\n",
    "prob = {0: prob_type, 1: prob_region, 2: prob_prod, 3: prob_usage, 4: prob_price, 5: prob_cancel}\n",
    "dep = {0: 'no', 1: 'no', 2: [0,1], 3: [2], 4: [3], 5: [3,4]}"
   ]
  },
  {
   "cell_type": "markdown",
   "metadata": {},
   "source": [
    "# Reject Sampling"
   ]
  },
  {
   "cell_type": "markdown",
   "metadata": {},
   "source": [
    "**Use Tuple as dictionary keys, you need to know:**                                       \n",
    "https://docs.python.org/3/faq/design.html#why-are-there-separate-tuple-and-list-data-types\n",
    "\n",
    "The hash table implementation of dictionaries uses a hash value calculated from the key value to find the key. If the key were a mutable object, its value could change, and thus its hash could also change. But since whoever changes the key object can’t tell that it was being used as a dictionary key, it can’t move the entry around in the dictionary. Then, when you try to look up the same object in the dictionary it won’t be found because its hash value is different. If you tried to look up the old value it wouldn’t be found either, because the value of the object found in that hash bin would be different.\n",
    "\n",
    "If you want a dictionary indexed with a list, simply convert the list to a tuple first; the function tuple(L) creates a tuple with the same entries as the list L. Tuples are immutable and can therefore be used as dictionary keys."
   ]
  },
  {
   "cell_type": "code",
   "execution_count": 4,
   "metadata": {},
   "outputs": [],
   "source": [
    "samples = []\n",
    "samples.append(0)\n",
    "\n",
    "accept_count = 0\n",
    "reject_count = 0\n",
    "\n",
    "for i in range(10000):\n",
    "    # 1 for hospital, 0 for Doctor's office\n",
    "    t = np.random.choice([1,0], p = [prob_type, 1 - prob_type])\n",
    "    \n",
    "    # 1 for north, 0 for south\n",
    "    r = np.random.choice([1,0], p = [prob_region, 1 - prob_region])\n",
    "    \n",
    "    # 1 for one product, 0 for two or more products\n",
    "    p = np.random.choice([1,0], p = [prob_prod[(t,r)], 1 - prob_prod[(t,r)]])\n",
    "    \n",
    "    # 1 for low usage, 0 for high usage\n",
    "    u = np.random.choice([1,0], p = [prob_usage[(p,)], 1 - prob_usage[(p,)]])\n",
    "    \n",
    "    # 1 for price increase, 0 for no price increase\n",
    "    pr = np.random.choice([1,0], p = [prob_price[(u,)], 1 - prob_price[(u,)]])\n",
    "    \n",
    "    # 1 for cancel, 0 for not cancel\n",
    "    c = np.random.choice([1,0], p = [prob_cancel[(u,pr)], 1 - prob_cancel[(u,pr)]])\n",
    "    \n",
    "    # since we want P(cancel |r = north)\n",
    "    if r == 0:\n",
    "        reject_count += 1\n",
    "        \n",
    "    else:\n",
    "        avg = (samples[accept_count] * accept_count + c) / (accept_count + 1)\n",
    "        samples.append(avg)\n",
    "        accept_count += 1\n",
    "        # here we don't store sampled values, we store our belief\n",
    "        \n",
    "        "
   ]
  },
  {
   "cell_type": "code",
   "execution_count": 5,
   "metadata": {},
   "outputs": [
    {
     "data": {
      "image/png": "[encoded data removed]",
      "text/plain": [
       "<Figure size 1152x216 with 1 Axes>"
      ]
     },
     "metadata": {
      "needs_background": "light"
     },
     "output_type": "display_data"
    }
   ],
   "source": [
    "dynamic_plotting(samples)"
   ]
  },
  {
   "cell_type": "code",
   "execution_count": 6,
   "metadata": {},
   "outputs": [
    {
     "name": "stdout",
     "output_type": "stream",
     "text": [
      "0.22268526907048392\n",
      "Proportion of samples rejected: 0.4481\n",
      "Conditional probability with rejection sampling: 0.2225444001449802\n"
     ]
    }
   ],
   "source": [
    "print(samples[-1])\n",
    "\n",
    "print(\"Proportion of samples rejected: {}\".format(reject_count/10000))\n",
    "print(\"Conditional probability with rejection sampling: {}\".format(samples[9999-reject_count]))"
   ]
  },
  {
   "cell_type": "markdown",
   "metadata": {},
   "source": [
    "### 知识点：Dynamic update Average, Probabilities within one piece of business code."
   ]
  },
  {
   "cell_type": "markdown",
   "metadata": {},
   "source": [
    "#### If we want to update mean                \n",
    "\n",
    "Suppose we have a dictionary of means, each value is updated from its previous element.    \n",
    "You update a value with previous mean and current value.     \n",
    "\n",
    "now comes a new sample with value = `value`:            \n",
    "\n",
    "Since we know             \n",
    "```python\n",
    "avg = sums / count\n",
    "```\n",
    "\n",
    "Now we update average `avg`              \n",
    "```python\n",
    "new_count = count + 1\n",
    "new_sums = count* avg + value\n",
    "new_avg = new_sums / new_count\n",
    "new_avg = (count * avg) / (count + 1)\n",
    "```\n",
    "\n",
    "#### If we want to update a probability             \n",
    "\n",
    "*Now we have a list of probabilities [values between 0 and 1]*    \n",
    "\n",
    "Since we know\n",
    "```python\n",
    "prob = success / trials\n",
    "```\n",
    "\n",
    "Now comes a new value, that is either 0 or 1, 0 for failed, 1 for success.       \n",
    "\n",
    "```python\n",
    "new_success = trials *  prob +  value\n",
    "new_trails = trials + 1\n",
    "new_prob = (trials * prob) +  value / (trials + 1)\n",
    "```\n",
    "\n",
    "所以作者省去了存储一堆0和1， 只存储我当前的belief， 一段合格的工程代码。                  \n",
    "当我们使用Epsilon Greddy 算法的时候，这个就特别有用了。                              "
   ]
  },
  {
   "cell_type": "code",
   "execution_count": 8,
   "metadata": {},
   "outputs": [],
   "source": [
    "prob = {0: prob_type, 1: prob_region, 2: prob_prod, 3: prob_usage, 4: prob_price, 5: prob_cancel}\n",
    "dep = {0: 'no', 1: 'no', 2: [0,1], 3: [2], 4: [3], 5: [3,4]}"
   ]
  },
  {
   "cell_type": "code",
   "execution_count": 7,
   "metadata": {},
   "outputs": [],
   "source": [
    "# there are 6 vairables\n",
    "variable = set(np.arange(6))\n",
    "\n",
    "# the 2nd variable is the given variable\n",
    "given = set([1])\n",
    "\n",
    "# other variables are free\n",
    "free_var = list(variable.difference(given))\n",
    "\n",
    "# randomly pick a sample.\n",
    "val = np.array([1,1,1,1,1,1])"
   ]
  },
  {
   "cell_type": "code",
   "execution_count": null,
   "metadata": {},
   "outputs": [],
   "source": [
    "samples = list()\n",
    "\n",
    "# append the 1st result from the 1st sample\n",
    "samples.append(val[5])\n",
    "\n",
    "for i in range(10000):\n",
    "    \n",
    "    # randomly choose a free variable\n",
    "    var = np.random.choice(free_var)\n",
    "    \n",
    "    # if this variable has no parent variable\n",
    "    # the variable can be drawn with its own probability distribution\n",
    "    if dep[var]=='no':\n",
    "        var_prob = prob[var]\n",
    "        \n",
    "    # if the variable has parent variable\n",
    "    # find the current value of all the parent variables\n",
    "    # find the probability of the current variable\n",
    "    else:\n",
    "        var_prob = prob[var][tuple(val[dep[var]])]\n",
    "        \n",
    "    # randomly draw a sample of the current variable\n",
    "    rand = np.random.uniform()\n",
    "    if rand <= var_prob:\n",
    "        new_val = 1\n",
    "    else:\n",
    "        new_val = 0\n",
    "    \n",
    "    # set the value of current variable with new sampled value\n",
    "    val[var] = new_val\n",
    "    \n",
    "    # now I have i samples, update probability\n",
    "    avg = (samples[i]*i+val[5])/(i+1)\n",
    "    samples.append(avg)"
   ]
  },
  {
   "cell_type": "code",
   "execution_count": null,
   "metadata": {},
   "outputs": [],
   "source": []
  }
 ],
 "metadata": {
  "kernelspec": {
   "display_name": "Python 3",
   "language": "python",
   "name": "python3"
  },
  "language_info": {
   "codemirror_mode": {
    "name": "ipython",
    "version": 3
   },
   "file_extension": ".py",
   "mimetype": "text/x-python",
   "name": "python",
   "nbconvert_exporter": "python",
   "pygments_lexer": "ipython3",
   "version": "3.8.3"
  }
 },
 "nbformat": 4,
 "nbformat_minor": 4
}
